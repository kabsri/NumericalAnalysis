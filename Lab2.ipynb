{
 "cells": [
  {
   "cell_type": "markdown",
   "metadata": {},
   "source": [
    "# Lab 2: Gaussian Elimination\n",
    "Kabilan Sriranjan\n",
    "\n",
    "23/03/18"
   ]
  },
  {
   "cell_type": "code",
   "execution_count": 2,
   "metadata": {
    "collapsed": true
   },
   "outputs": [],
   "source": [
    "import math\n",
    "import random as rn\n",
    "import numpy as np\n",
    "import matplotlib.pyplot as plt"
   ]
  },
  {
   "cell_type": "markdown",
   "metadata": {},
   "source": [
    "## Question 2.\n",
    "\n",
    "randomMatrix(n) creates an nxn numpy array with random entries taken uniformly from [-1,1]"
   ]
  },
  {
   "cell_type": "code",
   "execution_count": 3,
   "metadata": {
    "collapsed": true
   },
   "outputs": [],
   "source": [
    "def randomMatrix(n):\n",
    "    M = []\n",
    "    for i in range(0, n):\n",
    "        r = []\n",
    "        for j in range(0, n):\n",
    "            r.append(rn.uniform(-1,1))\n",
    "        M.append(r)\n",
    "    return np.matrix(M)"
   ]
  },
  {
   "cell_type": "markdown",
   "metadata": {},
   "source": [
    "## Question 3.\n",
    "gepp(M) is my implementation of Gaussian Elimination with partial pivoting. I used two subroutines, one to move the best row to pivot to the top and another to eliminate a single column."
   ]
  },
  {
   "cell_type": "code",
   "execution_count": 149,
   "metadata": {},
   "outputs": [],
   "source": [
    "#Find the largest possible pivot in the kth column of M and move it to position k\n",
    "def movePivot(M,k):\n",
    "    mx = np.abs(M[k,k])\n",
    "    mxIndex = k\n",
    "    for i in range(k, M.shape[0]):\n",
    "        cur = np.abs(M[i,k])\n",
    "        if cur>mx:\n",
    "            mx = cur\n",
    "            mxIndex = i\n",
    "    M[[k,mxIndex]] = M[[mxIndex,k]]\n",
    "    \n",
    "#Use the pivot at position (k,k) to nullify all entries below it\n",
    "def eliminate(M,k):\n",
    "    pivot = M[k,k]\n",
    "    for i in range(k+1, M.shape[0]):\n",
    "        r = -1*M[i,k]/pivot\n",
    "        M[i] += r*M[k]\n",
    "\n",
    "#Gaussian elimination with partial pivoting\n",
    "def gepp(M):\n",
    "    for i in range(0, M.shape[0]):\n",
    "        movePivot(M, i)\n",
    "        eliminate(M, i)"
   ]
  },
  {
   "cell_type": "markdown",
   "metadata": {},
   "source": [
    "## Question 4."
   ]
  },
  {
   "cell_type": "code",
   "execution_count": 170,
   "metadata": {},
   "outputs": [
    {
     "name": "stdout",
     "output_type": "stream",
     "text": [
      "0.881779671822\n"
     ]
    }
   ],
   "source": [
    "#get the growth factor of a matrix\n",
    "def growthFactor(M):\n",
    "    U = M.copy()\n",
    "    gepp(U)\n",
    "    return U.max()\n"
   ]
  },
  {
   "cell_type": "code",
   "execution_count": 195,
   "metadata": {},
   "outputs": [
    {
     "name": "stdout",
     "output_type": "stream",
     "text": [
      "[[ 0.98185407  0.02138506 -0.22090139 -0.54429296  0.24069904]\n",
      " [-0.6305849  -0.24525302 -0.9728313  -0.31372161 -0.53522537]\n",
      " [ 0.36714935 -0.32663874 -0.44546186  0.2300059  -0.79519425]\n",
      " [ 0.33322801  0.5325145  -0.85574794  0.26059054 -0.36303706]\n",
      " [-0.51443688 -0.50576955 -0.05596671  0.29852391 -0.31189495]]\n",
      "\n",
      "0.992635063925\n"
     ]
    }
   ],
   "source": [
    "m = randomMatrix(5)\n",
    "np.set_printoptions(precision=8, suppress=True)\n",
    "print(m)\n",
    "print()\n",
    "print(growthFactor(m))"
   ]
  },
  {
   "cell_type": "code",
   "execution_count": null,
   "metadata": {
    "collapsed": true
   },
   "outputs": [],
   "source": []
  }
 ],
 "metadata": {
  "kernelspec": {
   "display_name": "Python 3",
   "language": "python",
   "name": "python3"
  },
  "language_info": {
   "codemirror_mode": {
    "name": "ipython",
    "version": 3
   },
   "file_extension": ".py",
   "mimetype": "text/x-python",
   "name": "python",
   "nbconvert_exporter": "python",
   "pygments_lexer": "ipython3",
   "version": "3.6.3"
  }
 },
 "nbformat": 4,
 "nbformat_minor": 2
}
